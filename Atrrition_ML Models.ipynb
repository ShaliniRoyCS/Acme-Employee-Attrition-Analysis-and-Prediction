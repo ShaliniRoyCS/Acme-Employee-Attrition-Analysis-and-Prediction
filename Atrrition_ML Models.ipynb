{
 "cells": [
  {
   "cell_type": "code",
   "execution_count": 2,
   "id": "dde8e373",
   "metadata": {},
   "outputs": [],
   "source": [
    "import numpy as np\n",
    "import pandas as pd\n",
    "import seaborn as sns\n",
    "import matplotlib.pyplot as plt"
   ]
  },
  {
   "cell_type": "code",
   "execution_count": 3,
   "id": "e1fe5287",
   "metadata": {},
   "outputs": [],
   "source": [
    "from sklearn.preprocessing import LabelEncoder\n",
    "from sklearn.preprocessing import StandardScaler\n",
    "from sklearn.metrics import confusion_matrix, accuracy_score, classification_report, roc_auc_score, precision_recall_curve, roc_curve\n",
    "from sklearn.model_selection import train_test_split, GridSearchCV\n",
    "from sklearn.linear_model import LogisticRegression\n",
    "from sklearn.ensemble import RandomForestClassifier\n",
    "from sklearn.tree import DecisionTreeClassifier\n",
    "from sklearn.svm import SVC\n",
    "from sklearn.ensemble import AdaBoostClassifier"
   ]
  },
  {
   "cell_type": "code",
   "execution_count": 4,
   "id": "016b7361",
   "metadata": {},
   "outputs": [],
   "source": [
    "data = pd.read_csv(r\"C:\\Users\\shali\\Downloads\\Attrition_cleaned_data_for ML.csv\")"
   ]
  },
  {
   "cell_type": "code",
   "execution_count": 5,
   "id": "07e1002b",
   "metadata": {},
   "outputs": [
    {
     "data": {
      "text/html": [
       "<div>\n",
       "<style scoped>\n",
       "    .dataframe tbody tr th:only-of-type {\n",
       "        vertical-align: middle;\n",
       "    }\n",
       "\n",
       "    .dataframe tbody tr th {\n",
       "        vertical-align: top;\n",
       "    }\n",
       "\n",
       "    .dataframe thead th {\n",
       "        text-align: right;\n",
       "    }\n",
       "</style>\n",
       "<table border=\"1\" class=\"dataframe\">\n",
       "  <thead>\n",
       "    <tr style=\"text-align: right;\">\n",
       "      <th></th>\n",
       "      <th>Age</th>\n",
       "      <th>BusinessTravel</th>\n",
       "      <th>DailyRate</th>\n",
       "      <th>Department</th>\n",
       "      <th>DistanceFromHome</th>\n",
       "      <th>Education</th>\n",
       "      <th>EducationField</th>\n",
       "      <th>EnvironmentSatisfaction</th>\n",
       "      <th>Gender</th>\n",
       "      <th>HourlyRate</th>\n",
       "      <th>...</th>\n",
       "      <th>RelationshipSatisfaction</th>\n",
       "      <th>StockOptionLevel</th>\n",
       "      <th>TotalWorkingYears</th>\n",
       "      <th>TrainingTimesLastYear</th>\n",
       "      <th>WorkLifeBalance</th>\n",
       "      <th>YearsAtCompany</th>\n",
       "      <th>YearsInCurrentRole</th>\n",
       "      <th>YearsSinceLastPromotion</th>\n",
       "      <th>YearsWithCurrManager</th>\n",
       "      <th>Attrition</th>\n",
       "    </tr>\n",
       "  </thead>\n",
       "  <tbody>\n",
       "    <tr>\n",
       "      <th>0</th>\n",
       "      <td>23</td>\n",
       "      <td>2</td>\n",
       "      <td>624</td>\n",
       "      <td>2</td>\n",
       "      <td>0</td>\n",
       "      <td>1</td>\n",
       "      <td>1</td>\n",
       "      <td>1</td>\n",
       "      <td>0</td>\n",
       "      <td>64</td>\n",
       "      <td>...</td>\n",
       "      <td>0</td>\n",
       "      <td>0</td>\n",
       "      <td>8</td>\n",
       "      <td>0</td>\n",
       "      <td>0</td>\n",
       "      <td>6</td>\n",
       "      <td>4</td>\n",
       "      <td>0</td>\n",
       "      <td>5</td>\n",
       "      <td>1</td>\n",
       "    </tr>\n",
       "    <tr>\n",
       "      <th>1</th>\n",
       "      <td>31</td>\n",
       "      <td>1</td>\n",
       "      <td>113</td>\n",
       "      <td>1</td>\n",
       "      <td>7</td>\n",
       "      <td>0</td>\n",
       "      <td>1</td>\n",
       "      <td>2</td>\n",
       "      <td>1</td>\n",
       "      <td>31</td>\n",
       "      <td>...</td>\n",
       "      <td>3</td>\n",
       "      <td>1</td>\n",
       "      <td>10</td>\n",
       "      <td>3</td>\n",
       "      <td>2</td>\n",
       "      <td>10</td>\n",
       "      <td>7</td>\n",
       "      <td>1</td>\n",
       "      <td>7</td>\n",
       "      <td>0</td>\n",
       "    </tr>\n",
       "    <tr>\n",
       "      <th>2</th>\n",
       "      <td>19</td>\n",
       "      <td>2</td>\n",
       "      <td>805</td>\n",
       "      <td>1</td>\n",
       "      <td>1</td>\n",
       "      <td>1</td>\n",
       "      <td>4</td>\n",
       "      <td>3</td>\n",
       "      <td>1</td>\n",
       "      <td>62</td>\n",
       "      <td>...</td>\n",
       "      <td>1</td>\n",
       "      <td>0</td>\n",
       "      <td>7</td>\n",
       "      <td>3</td>\n",
       "      <td>2</td>\n",
       "      <td>0</td>\n",
       "      <td>0</td>\n",
       "      <td>0</td>\n",
       "      <td>0</td>\n",
       "      <td>1</td>\n",
       "    </tr>\n",
       "    <tr>\n",
       "      <th>3</th>\n",
       "      <td>15</td>\n",
       "      <td>1</td>\n",
       "      <td>820</td>\n",
       "      <td>1</td>\n",
       "      <td>2</td>\n",
       "      <td>3</td>\n",
       "      <td>1</td>\n",
       "      <td>3</td>\n",
       "      <td>0</td>\n",
       "      <td>26</td>\n",
       "      <td>...</td>\n",
       "      <td>2</td>\n",
       "      <td>0</td>\n",
       "      <td>8</td>\n",
       "      <td>3</td>\n",
       "      <td>2</td>\n",
       "      <td>8</td>\n",
       "      <td>7</td>\n",
       "      <td>3</td>\n",
       "      <td>0</td>\n",
       "      <td>0</td>\n",
       "    </tr>\n",
       "    <tr>\n",
       "      <th>4</th>\n",
       "      <td>9</td>\n",
       "      <td>2</td>\n",
       "      <td>312</td>\n",
       "      <td>1</td>\n",
       "      <td>1</td>\n",
       "      <td>0</td>\n",
       "      <td>3</td>\n",
       "      <td>0</td>\n",
       "      <td>1</td>\n",
       "      <td>10</td>\n",
       "      <td>...</td>\n",
       "      <td>3</td>\n",
       "      <td>1</td>\n",
       "      <td>6</td>\n",
       "      <td>3</td>\n",
       "      <td>2</td>\n",
       "      <td>2</td>\n",
       "      <td>2</td>\n",
       "      <td>2</td>\n",
       "      <td>2</td>\n",
       "      <td>0</td>\n",
       "    </tr>\n",
       "  </tbody>\n",
       "</table>\n",
       "<p>5 rows × 31 columns</p>\n",
       "</div>"
      ],
      "text/plain": [
       "   Age  BusinessTravel  DailyRate  Department  DistanceFromHome  Education  \\\n",
       "0   23               2        624           2                 0          1   \n",
       "1   31               1        113           1                 7          0   \n",
       "2   19               2        805           1                 1          1   \n",
       "3   15               1        820           1                 2          3   \n",
       "4    9               2        312           1                 1          0   \n",
       "\n",
       "   EducationField  EnvironmentSatisfaction  Gender  HourlyRate  ...  \\\n",
       "0               1                        1       0          64  ...   \n",
       "1               1                        2       1          31  ...   \n",
       "2               4                        3       1          62  ...   \n",
       "3               1                        3       0          26  ...   \n",
       "4               3                        0       1          10  ...   \n",
       "\n",
       "   RelationshipSatisfaction  StockOptionLevel  TotalWorkingYears  \\\n",
       "0                         0                 0                  8   \n",
       "1                         3                 1                 10   \n",
       "2                         1                 0                  7   \n",
       "3                         2                 0                  8   \n",
       "4                         3                 1                  6   \n",
       "\n",
       "   TrainingTimesLastYear  WorkLifeBalance  YearsAtCompany  YearsInCurrentRole  \\\n",
       "0                      0                0               6                   4   \n",
       "1                      3                2              10                   7   \n",
       "2                      3                2               0                   0   \n",
       "3                      3                2               8                   7   \n",
       "4                      3                2               2                   2   \n",
       "\n",
       "   YearsSinceLastPromotion  YearsWithCurrManager  Attrition  \n",
       "0                        0                     5          1  \n",
       "1                        1                     7          0  \n",
       "2                        0                     0          1  \n",
       "3                        3                     0          0  \n",
       "4                        2                     2          0  \n",
       "\n",
       "[5 rows x 31 columns]"
      ]
     },
     "execution_count": 5,
     "metadata": {},
     "output_type": "execute_result"
    }
   ],
   "source": [
    "data.head()"
   ]
  },
  {
   "cell_type": "code",
   "execution_count": 6,
   "id": "16dcbb60",
   "metadata": {},
   "outputs": [
    {
     "data": {
      "text/plain": [
       "(2272, 31)"
      ]
     },
     "execution_count": 6,
     "metadata": {},
     "output_type": "execute_result"
    }
   ],
   "source": [
    "data.shape"
   ]
  },
  {
   "cell_type": "code",
   "execution_count": 7,
   "id": "8c75c7fd",
   "metadata": {},
   "outputs": [],
   "source": [
    "X = data.drop('Attrition', axis=1)\n",
    "y = data.Attrition\n",
    "\n",
    "X_train, X_test, y_train, y_test = train_test_split(X, y, test_size=0.3, random_state=42,\n",
    "                                                    stratify=y)\n",
    "\n",
    "scaler = StandardScaler()\n",
    "X_train_std = scaler.fit_transform(X_train)\n",
    "X_test_std = scaler.transform(X_test)\n",
    "X_std = scaler.transform(X)"
   ]
  },
  {
   "cell_type": "code",
   "execution_count": 8,
   "id": "786f0dca",
   "metadata": {},
   "outputs": [
    {
     "name": "stdout",
     "output_type": "stream",
     "text": [
      "TRAIN\n",
      "Stay: 50.00%\n",
      "Leave: 50.00%\n",
      "\n",
      "TEST\n",
      "Stay: 50.00%\n",
      "Leave: 50.00%\n"
     ]
    }
   ],
   "source": [
    "def calculate_percentage(data):\n",
    "    stay_percentage = (data.value_counts()[0] / data.shape[0]) * 100\n",
    "    leave_percentage = (data.value_counts()[1] / data.shape[0]) * 100\n",
    "    return stay_percentage, leave_percentage\n",
    "\n",
    "print(\"TRAIN\")\n",
    "train_stay, train_leave = calculate_percentage(y_train)\n",
    "print(f\"Stay: {train_stay:.2f}%\")\n",
    "print(f\"Leave: {train_leave:.2f}%\")\n",
    "\n",
    "print(\"\\nTEST\")\n",
    "test_stay, test_leave = calculate_percentage(y_test)\n",
    "print(f\"Stay: {test_stay:.2f}%\")\n",
    "print(f\"Leave: {test_leave:.2f}%\")\n"
   ]
  },
  {
   "cell_type": "code",
   "execution_count": 9,
   "id": "7cd1ce69",
   "metadata": {},
   "outputs": [],
   "source": [
    "def evaluate(model, X_train, X_test, y_train, y_test):\n",
    "    y_test_pred = model.predict(X_test)\n",
    "    y_train_pred = model.predict(X_train)\n",
    "\n",
    "    print(\"TRAINING RESULTS:\")\n",
    "    train_conf_matrix = confusion_matrix(y_train, y_train_pred)\n",
    "    train_accuracy = accuracy_score(y_train, y_train_pred)\n",
    "    train_clf_report = classification_report(y_train, y_train_pred, output_dict=True)\n",
    "\n",
    "    print(f\"TRAINING CONFUSION MATRIX:\\n{train_conf_matrix}\")\n",
    "    print(f\"TRAINING ACCURACY SCORE:\\n{train_accuracy:.4f}\")\n",
    "    print(f\"TRAINING CLASSIFICATION REPORT:\\n{pd.DataFrame(train_clf_report)}\")\n",
    "\n",
    "    print(\"\\nTESTING RESULTS:\")\n",
    "    test_conf_matrix = confusion_matrix(y_test, y_test_pred)\n",
    "    test_accuracy = accuracy_score(y_test, y_test_pred)\n",
    "    test_clf_report = classification_report(y_test, y_test_pred, output_dict=True)\n",
    "\n",
    "    print(f\"TESTING CONFUSION MATRIX:\\n{test_conf_matrix}\")\n",
    "    print(f\"TESTING ACCURACY SCORE:\\n{test_accuracy:.4f}\")\n",
    "    print(f\"TESTING CLASSIFICATION REPORT:\\n{pd.DataFrame(test_clf_report)}\")\n"
   ]
  },
  {
   "cell_type": "markdown",
   "id": "85672d89",
   "metadata": {},
   "source": [
    "### LogisticRegression"
   ]
  },
  {
   "cell_type": "code",
   "execution_count": 10,
   "id": "3cc43807",
   "metadata": {},
   "outputs": [
    {
     "name": "stdout",
     "output_type": "stream",
     "text": [
      "TRAINING RESULTS:\n",
      "TRAINING CONFUSION MATRIX:\n",
      "[[670 125]\n",
      " [123 672]]\n",
      "TRAINING ACCURACY SCORE:\n",
      "0.8440\n",
      "TRAINING CLASSIFICATION REPORT:\n",
      "                    0           1  accuracy    macro avg  weighted avg\n",
      "precision    0.844893    0.843162  0.844025     0.844027      0.844027\n",
      "recall       0.842767    0.845283  0.844025     0.844025      0.844025\n",
      "f1-score     0.843829    0.844221  0.844025     0.844025      0.844025\n",
      "support    795.000000  795.000000  0.844025  1590.000000   1590.000000\n",
      "\n",
      "TESTING RESULTS:\n",
      "TESTING CONFUSION MATRIX:\n",
      "[[290  51]\n",
      " [ 57 284]]\n",
      "TESTING ACCURACY SCORE:\n",
      "0.8416\n",
      "TESTING CLASSIFICATION REPORT:\n",
      "                    0           1  accuracy   macro avg  weighted avg\n",
      "precision    0.835735    0.847761  0.841642    0.841748      0.841748\n",
      "recall       0.850440    0.832845  0.841642    0.841642      0.841642\n",
      "f1-score     0.843023    0.840237  0.841642    0.841630      0.841630\n",
      "support    341.000000  341.000000  0.841642  682.000000    682.000000\n"
     ]
    }
   ],
   "source": [
    "lr_clf = LogisticRegression(solver='liblinear', penalty='l1')\n",
    "lr_clf.fit(X_train_std, y_train)\n",
    "\n",
    "evaluate(lr_clf, X_train_std, X_test_std, y_train, y_test)"
   ]
  },
  {
   "cell_type": "markdown",
   "id": "f53de5e2",
   "metadata": {},
   "source": [
    "### RandomForest"
   ]
  },
  {
   "cell_type": "code",
   "execution_count": 11,
   "id": "8e4caae9",
   "metadata": {},
   "outputs": [
    {
     "name": "stdout",
     "output_type": "stream",
     "text": [
      "TRAINING RESULTS:\n",
      "TRAINING CONFUSION MATRIX:\n",
      "[[795   0]\n",
      " [  0 795]]\n",
      "TRAINING ACCURACY SCORE:\n",
      "1.0000\n",
      "TRAINING CLASSIFICATION REPORT:\n",
      "               0      1  accuracy  macro avg  weighted avg\n",
      "precision    1.0    1.0       1.0        1.0           1.0\n",
      "recall       1.0    1.0       1.0        1.0           1.0\n",
      "f1-score     1.0    1.0       1.0        1.0           1.0\n",
      "support    795.0  795.0       1.0     1590.0        1590.0\n",
      "\n",
      "TESTING RESULTS:\n",
      "TESTING CONFUSION MATRIX:\n",
      "[[321  20]\n",
      " [ 36 305]]\n",
      "TESTING ACCURACY SCORE:\n",
      "0.9179\n",
      "TESTING CLASSIFICATION REPORT:\n",
      "                    0           1  accuracy   macro avg  weighted avg\n",
      "precision    0.899160    0.938462  0.917889    0.918811      0.918811\n",
      "recall       0.941349    0.894428  0.917889    0.917889      0.917889\n",
      "f1-score     0.919771    0.915916  0.917889    0.917843      0.917843\n",
      "support    341.000000  341.000000  0.917889  682.000000    682.000000\n"
     ]
    }
   ],
   "source": [
    "rf_clf = RandomForestClassifier(n_estimators=100, bootstrap=False)\n",
    "rf_clf.fit(X_train, y_train)\n",
    "\n",
    "evaluate(rf_clf, X_train, X_test, y_train, y_test)"
   ]
  },
  {
   "cell_type": "markdown",
   "id": "e7c6643f",
   "metadata": {},
   "source": [
    "### DecisionTree"
   ]
  },
  {
   "cell_type": "code",
   "execution_count": 12,
   "id": "cebf7f18",
   "metadata": {},
   "outputs": [
    {
     "name": "stdout",
     "output_type": "stream",
     "text": [
      "TRAINING RESULTS:\n",
      "TRAINING CONFUSION MATRIX:\n",
      "[[679 116]\n",
      " [ 95 700]]\n",
      "TRAINING ACCURACY SCORE:\n",
      "0.8673\n",
      "TRAINING CLASSIFICATION REPORT:\n",
      "                    0           1  accuracy    macro avg  weighted avg\n",
      "precision    0.877261    0.857843  0.867296     0.867552      0.867552\n",
      "recall       0.854088    0.880503  0.867296     0.867296      0.867296\n",
      "f1-score     0.865519    0.869025  0.867296     0.867272      0.867272\n",
      "support    795.000000  795.000000  0.867296  1590.000000   1590.000000\n",
      "\n",
      "TESTING RESULTS:\n",
      "TESTING CONFUSION MATRIX:\n",
      "[[272  69]\n",
      " [ 79 262]]\n",
      "TESTING ACCURACY SCORE:\n",
      "0.7830\n",
      "TESTING CLASSIFICATION REPORT:\n",
      "                    0           1  accuracy   macro avg  weighted avg\n",
      "precision    0.774929    0.791541  0.782991    0.783235      0.783235\n",
      "recall       0.797654    0.768328  0.782991    0.782991      0.782991\n",
      "f1-score     0.786127    0.779762  0.782991    0.782945      0.782945\n",
      "support    341.000000  341.000000  0.782991  682.000000    682.000000\n"
     ]
    }
   ],
   "source": [
    "dt_clf = DecisionTreeClassifier(max_depth=7, min_samples_split=20, min_samples_leaf=10)\n",
    "dt_clf.fit(X_train, y_train)\n",
    "\n",
    "evaluate(dt_clf, X_train, X_test, y_train, y_test)"
   ]
  },
  {
   "cell_type": "markdown",
   "id": "1bb1cfe2",
   "metadata": {},
   "source": [
    "### SVM"
   ]
  },
  {
   "cell_type": "code",
   "execution_count": 13,
   "id": "0ebe9f36",
   "metadata": {},
   "outputs": [
    {
     "name": "stdout",
     "output_type": "stream",
     "text": [
      "TRAINING RESULTS:\n",
      "TRAINING CONFUSION MATRIX:\n",
      "[[675 120]\n",
      " [124 671]]\n",
      "TRAINING ACCURACY SCORE:\n",
      "0.8465\n",
      "TRAINING CLASSIFICATION REPORT:\n",
      "                    0           1  accuracy    macro avg  weighted avg\n",
      "precision    0.844806    0.848293  0.846541     0.846550      0.846550\n",
      "recall       0.849057    0.844025  0.846541     0.846541      0.846541\n",
      "f1-score     0.846926    0.846154  0.846541     0.846540      0.846540\n",
      "support    795.000000  795.000000  0.846541  1590.000000   1590.000000\n",
      "\n",
      "TESTING RESULTS:\n",
      "TESTING CONFUSION MATRIX:\n",
      "[[294  47]\n",
      " [ 58 283]]\n",
      "TESTING ACCURACY SCORE:\n",
      "0.8460\n",
      "TESTING CLASSIFICATION REPORT:\n",
      "                    0           1  accuracy   macro avg  weighted avg\n",
      "precision    0.835227    0.857576  0.846041    0.846402      0.846402\n",
      "recall       0.862170    0.829912  0.846041    0.846041      0.846041\n",
      "f1-score     0.848485    0.843517  0.846041    0.846001      0.846001\n",
      "support    341.000000  341.000000  0.846041  682.000000    682.000000\n"
     ]
    }
   ],
   "source": [
    "svm_clf = SVC(kernel='linear')\n",
    "svm_clf.fit(X_train_std, y_train)\n",
    "\n",
    "evaluate(svm_clf, X_train_std, X_test_std, y_train, y_test)"
   ]
  },
  {
   "cell_type": "markdown",
   "id": "c59384c0",
   "metadata": {},
   "source": [
    "###  AdaBoostClassifier"
   ]
  },
  {
   "cell_type": "code",
   "execution_count": 14,
   "id": "057b0b74",
   "metadata": {},
   "outputs": [
    {
     "name": "stdout",
     "output_type": "stream",
     "text": [
      "TRAINING RESULTS:\n",
      "TRAINING CONFUSION MATRIX:\n",
      "[[707  88]\n",
      " [ 83 712]]\n",
      "TRAINING ACCURACY SCORE:\n",
      "0.8925\n",
      "TRAINING CLASSIFICATION REPORT:\n",
      "                    0           1  accuracy    macro avg  weighted avg\n",
      "precision    0.894937    0.890000  0.892453     0.892468      0.892468\n",
      "recall       0.889308    0.895597  0.892453     0.892453      0.892453\n",
      "f1-score     0.892114    0.892790  0.892453     0.892452      0.892452\n",
      "support    795.000000  795.000000  0.892453  1590.000000   1590.000000\n",
      "\n",
      "TESTING RESULTS:\n",
      "TESTING CONFUSION MATRIX:\n",
      "[[295  46]\n",
      " [ 46 295]]\n",
      "TESTING ACCURACY SCORE:\n",
      "0.8651\n",
      "TESTING CLASSIFICATION REPORT:\n",
      "                    0           1  accuracy   macro avg  weighted avg\n",
      "precision    0.865103    0.865103  0.865103    0.865103      0.865103\n",
      "recall       0.865103    0.865103  0.865103    0.865103      0.865103\n",
      "f1-score     0.865103    0.865103  0.865103    0.865103      0.865103\n",
      "support    341.000000  341.000000  0.865103  682.000000    682.000000\n"
     ]
    }
   ],
   "source": [
    "ab_clf = AdaBoostClassifier()\n",
    "ab_clf.fit(X_train, y_train)\n",
    "\n",
    "evaluate(ab_clf, X_train, X_test, y_train, y_test)"
   ]
  }
 ],
 "metadata": {
  "kernelspec": {
   "display_name": "Python 3 (ipykernel)",
   "language": "python",
   "name": "python3"
  },
  "language_info": {
   "codemirror_mode": {
    "name": "ipython",
    "version": 3
   },
   "file_extension": ".py",
   "mimetype": "text/x-python",
   "name": "python",
   "nbconvert_exporter": "python",
   "pygments_lexer": "ipython3",
   "version": "3.9.13"
  }
 },
 "nbformat": 4,
 "nbformat_minor": 5
}
